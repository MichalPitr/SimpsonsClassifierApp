{
  "nbformat": 4,
  "nbformat_minor": 0,
  "metadata": {
    "colab": {
      "name": "SimpsonsClassifierFastAI.ipynb",
      "provenance": [],
      "collapsed_sections": [],
      "toc_visible": true,
      "authorship_tag": "ABX9TyPrmngcvlFtNHkeTYdphMs4",
      "include_colab_link": true
    },
    "kernelspec": {
      "name": "python3",
      "display_name": "Python 3"
    },
    "widgets": {
      "application/vnd.jupyter.widget-state+json": {
        "d15143b755924692853c6b3aa81a252b": {
          "model_module": "@jupyter-widgets/controls",
          "model_name": "VBoxModel",
          "state": {
            "_view_name": "VBoxView",
            "_dom_classes": [],
            "_model_name": "VBoxModel",
            "_view_module": "@jupyter-widgets/controls",
            "_model_module_version": "1.5.0",
            "_view_count": null,
            "_view_module_version": "1.5.0",
            "box_style": "",
            "layout": "IPY_MODEL_e4010ef37f4a42f99984ad30308a44d1",
            "_model_module": "@jupyter-widgets/controls",
            "children": [
              "IPY_MODEL_a71a94c82870468c83f241df682d95fb",
              "IPY_MODEL_805e2120b29042049cb6b6a5b9933588",
              "IPY_MODEL_a20597473a864c6b9c850d017273fb10",
              "IPY_MODEL_c4ca953c95724b40a582fab8142bf7a2",
              "IPY_MODEL_86310a1d7ede47eaa0899e0c53557483"
            ]
          }
        },
        "e4010ef37f4a42f99984ad30308a44d1": {
          "model_module": "@jupyter-widgets/base",
          "model_name": "LayoutModel",
          "state": {
            "_view_name": "LayoutView",
            "grid_template_rows": null,
            "right": null,
            "justify_content": null,
            "_view_module": "@jupyter-widgets/base",
            "overflow": null,
            "_model_module_version": "1.2.0",
            "_view_count": null,
            "flex_flow": null,
            "width": null,
            "min_width": null,
            "border": null,
            "align_items": null,
            "bottom": null,
            "_model_module": "@jupyter-widgets/base",
            "top": null,
            "grid_column": null,
            "overflow_y": null,
            "overflow_x": null,
            "grid_auto_flow": null,
            "grid_area": null,
            "grid_template_columns": null,
            "flex": null,
            "_model_name": "LayoutModel",
            "justify_items": null,
            "grid_row": null,
            "max_height": null,
            "align_content": null,
            "visibility": null,
            "align_self": null,
            "height": null,
            "min_height": null,
            "padding": null,
            "grid_auto_rows": null,
            "grid_gap": null,
            "max_width": null,
            "order": null,
            "_view_module_version": "1.2.0",
            "grid_template_areas": null,
            "object_position": null,
            "object_fit": null,
            "grid_auto_columns": null,
            "margin": null,
            "display": null,
            "left": null
          }
        },
        "a71a94c82870468c83f241df682d95fb": {
          "model_module": "@jupyter-widgets/controls",
          "model_name": "LabelModel",
          "state": {
            "_view_name": "LabelView",
            "style": "IPY_MODEL_0956a1b355c04491a2ee6a649e5665dc",
            "_dom_classes": [],
            "description": "",
            "_model_name": "LabelModel",
            "placeholder": "​",
            "_view_module": "@jupyter-widgets/controls",
            "_model_module_version": "1.5.0",
            "value": "Upload your Simpson [Homer, Lisa, Bart, Moe and Ned]",
            "_view_count": null,
            "_view_module_version": "1.5.0",
            "description_tooltip": null,
            "_model_module": "@jupyter-widgets/controls",
            "layout": "IPY_MODEL_0dceae47f0054f7d9c993a8e1c5f57f1"
          }
        },
        "805e2120b29042049cb6b6a5b9933588": {
          "model_module": "@jupyter-widgets/controls",
          "model_name": "FileUploadModel",
          "state": {
            "_view_name": "FileUploadView",
            "_counter": 1,
            "style": "IPY_MODEL_7993eb14d8654b0c981def2c1d5b706d",
            "_dom_classes": [],
            "description": "Upload",
            "multiple": false,
            "_model_name": "FileUploadModel",
            "data": [
              null
            ],
            "button_style": "",
            "_view_module": "@jupyter-widgets/controls",
            "_model_module_version": "1.5.0",
            "accept": "",
            "_view_count": null,
            "disabled": false,
            "_view_module_version": "1.5.0",
            "error": "",
            "description_tooltip": null,
            "metadata": [
              {
                "name": "moe_szyslak_4.jpg",
                "type": "image/jpeg",
                "size": 17076,
                "lastModified": 1608669210489
              }
            ],
            "_model_module": "@jupyter-widgets/controls",
            "layout": "IPY_MODEL_fc431eee5fbf4ac6a3a34fb9fa1d3184",
            "icon": "upload"
          }
        },
        "a20597473a864c6b9c850d017273fb10": {
          "model_module": "@jupyter-widgets/controls",
          "model_name": "ButtonModel",
          "state": {
            "_view_name": "ButtonView",
            "style": "IPY_MODEL_2d192dd0506e43c38ea15db7e80208eb",
            "_dom_classes": [],
            "description": "Classify",
            "_model_name": "ButtonModel",
            "button_style": "danger",
            "_view_module": "@jupyter-widgets/controls",
            "_model_module_version": "1.5.0",
            "tooltip": "",
            "_view_count": null,
            "disabled": false,
            "_view_module_version": "1.5.0",
            "layout": "IPY_MODEL_8dbb9631c6534089b0dfcef62109a886",
            "_model_module": "@jupyter-widgets/controls",
            "icon": ""
          }
        },
        "c4ca953c95724b40a582fab8142bf7a2": {
          "model_module": "@jupyter-widgets/output",
          "model_name": "OutputModel",
          "state": {
            "_view_name": "OutputView",
            "msg_id": "",
            "_dom_classes": [],
            "_model_name": "OutputModel",
            "outputs": [
              {
                "output_type": "display_data",
                "metadata": {
                  "tags": []
                },
                "image/png": "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\n",
                "text/plain": "<PIL.Image.Image image mode=RGB size=229x166 at 0x7F1771C96630>"
              }
            ],
            "_view_module": "@jupyter-widgets/output",
            "_model_module_version": "1.0.0",
            "_view_count": null,
            "_view_module_version": "1.0.0",
            "layout": "IPY_MODEL_8aaac8ce9c58432c9fdad004caa16f5a",
            "_model_module": "@jupyter-widgets/output"
          }
        },
        "86310a1d7ede47eaa0899e0c53557483": {
          "model_module": "@jupyter-widgets/controls",
          "model_name": "LabelModel",
          "state": {
            "_view_name": "LabelView",
            "style": "IPY_MODEL_9315577e32e745158e8efa17e65ab94e",
            "_dom_classes": [],
            "description": "",
            "_model_name": "LabelModel",
            "placeholder": "​",
            "_view_module": "@jupyter-widgets/controls",
            "_model_module_version": "1.5.0",
            "value": "Prediction: moe_szyslak; Probability: 0.9996",
            "_view_count": null,
            "_view_module_version": "1.5.0",
            "description_tooltip": null,
            "_model_module": "@jupyter-widgets/controls",
            "layout": "IPY_MODEL_3a5909235b5e46998443ae921584fc35"
          }
        },
        "0956a1b355c04491a2ee6a649e5665dc": {
          "model_module": "@jupyter-widgets/controls",
          "model_name": "DescriptionStyleModel",
          "state": {
            "_view_name": "StyleView",
            "_model_name": "DescriptionStyleModel",
            "description_width": "",
            "_view_module": "@jupyter-widgets/base",
            "_model_module_version": "1.5.0",
            "_view_count": null,
            "_view_module_version": "1.2.0",
            "_model_module": "@jupyter-widgets/controls"
          }
        },
        "0dceae47f0054f7d9c993a8e1c5f57f1": {
          "model_module": "@jupyter-widgets/base",
          "model_name": "LayoutModel",
          "state": {
            "_view_name": "LayoutView",
            "grid_template_rows": null,
            "right": null,
            "justify_content": null,
            "_view_module": "@jupyter-widgets/base",
            "overflow": null,
            "_model_module_version": "1.2.0",
            "_view_count": null,
            "flex_flow": null,
            "width": null,
            "min_width": null,
            "border": null,
            "align_items": null,
            "bottom": null,
            "_model_module": "@jupyter-widgets/base",
            "top": null,
            "grid_column": null,
            "overflow_y": null,
            "overflow_x": null,
            "grid_auto_flow": null,
            "grid_area": null,
            "grid_template_columns": null,
            "flex": null,
            "_model_name": "LayoutModel",
            "justify_items": null,
            "grid_row": null,
            "max_height": null,
            "align_content": null,
            "visibility": null,
            "align_self": null,
            "height": null,
            "min_height": null,
            "padding": null,
            "grid_auto_rows": null,
            "grid_gap": null,
            "max_width": null,
            "order": null,
            "_view_module_version": "1.2.0",
            "grid_template_areas": null,
            "object_position": null,
            "object_fit": null,
            "grid_auto_columns": null,
            "margin": null,
            "display": null,
            "left": null
          }
        },
        "7993eb14d8654b0c981def2c1d5b706d": {
          "model_module": "@jupyter-widgets/controls",
          "model_name": "ButtonStyleModel",
          "state": {
            "_view_name": "StyleView",
            "_model_name": "ButtonStyleModel",
            "_view_module": "@jupyter-widgets/base",
            "_model_module_version": "1.5.0",
            "_view_count": null,
            "button_color": null,
            "font_weight": "",
            "_view_module_version": "1.2.0",
            "_model_module": "@jupyter-widgets/controls"
          }
        },
        "fc431eee5fbf4ac6a3a34fb9fa1d3184": {
          "model_module": "@jupyter-widgets/base",
          "model_name": "LayoutModel",
          "state": {
            "_view_name": "LayoutView",
            "grid_template_rows": null,
            "right": null,
            "justify_content": null,
            "_view_module": "@jupyter-widgets/base",
            "overflow": null,
            "_model_module_version": "1.2.0",
            "_view_count": null,
            "flex_flow": null,
            "width": null,
            "min_width": null,
            "border": null,
            "align_items": null,
            "bottom": null,
            "_model_module": "@jupyter-widgets/base",
            "top": null,
            "grid_column": null,
            "overflow_y": null,
            "overflow_x": null,
            "grid_auto_flow": null,
            "grid_area": null,
            "grid_template_columns": null,
            "flex": null,
            "_model_name": "LayoutModel",
            "justify_items": null,
            "grid_row": null,
            "max_height": null,
            "align_content": null,
            "visibility": null,
            "align_self": null,
            "height": null,
            "min_height": null,
            "padding": null,
            "grid_auto_rows": null,
            "grid_gap": null,
            "max_width": null,
            "order": null,
            "_view_module_version": "1.2.0",
            "grid_template_areas": null,
            "object_position": null,
            "object_fit": null,
            "grid_auto_columns": null,
            "margin": null,
            "display": null,
            "left": null
          }
        },
        "2d192dd0506e43c38ea15db7e80208eb": {
          "model_module": "@jupyter-widgets/controls",
          "model_name": "ButtonStyleModel",
          "state": {
            "_view_name": "StyleView",
            "_model_name": "ButtonStyleModel",
            "_view_module": "@jupyter-widgets/base",
            "_model_module_version": "1.5.0",
            "_view_count": null,
            "button_color": null,
            "font_weight": "",
            "_view_module_version": "1.2.0",
            "_model_module": "@jupyter-widgets/controls"
          }
        },
        "8dbb9631c6534089b0dfcef62109a886": {
          "model_module": "@jupyter-widgets/base",
          "model_name": "LayoutModel",
          "state": {
            "_view_name": "LayoutView",
            "grid_template_rows": null,
            "right": null,
            "justify_content": null,
            "_view_module": "@jupyter-widgets/base",
            "overflow": null,
            "_model_module_version": "1.2.0",
            "_view_count": null,
            "flex_flow": null,
            "width": null,
            "min_width": null,
            "border": null,
            "align_items": null,
            "bottom": null,
            "_model_module": "@jupyter-widgets/base",
            "top": null,
            "grid_column": null,
            "overflow_y": null,
            "overflow_x": null,
            "grid_auto_flow": null,
            "grid_area": null,
            "grid_template_columns": null,
            "flex": null,
            "_model_name": "LayoutModel",
            "justify_items": null,
            "grid_row": null,
            "max_height": null,
            "align_content": null,
            "visibility": null,
            "align_self": null,
            "height": null,
            "min_height": null,
            "padding": null,
            "grid_auto_rows": null,
            "grid_gap": null,
            "max_width": null,
            "order": null,
            "_view_module_version": "1.2.0",
            "grid_template_areas": null,
            "object_position": null,
            "object_fit": null,
            "grid_auto_columns": null,
            "margin": null,
            "display": null,
            "left": null
          }
        },
        "9315577e32e745158e8efa17e65ab94e": {
          "model_module": "@jupyter-widgets/controls",
          "model_name": "DescriptionStyleModel",
          "state": {
            "_view_name": "StyleView",
            "_model_name": "DescriptionStyleModel",
            "description_width": "",
            "_view_module": "@jupyter-widgets/base",
            "_model_module_version": "1.5.0",
            "_view_count": null,
            "_view_module_version": "1.2.0",
            "_model_module": "@jupyter-widgets/controls"
          }
        },
        "3a5909235b5e46998443ae921584fc35": {
          "model_module": "@jupyter-widgets/base",
          "model_name": "LayoutModel",
          "state": {
            "_view_name": "LayoutView",
            "grid_template_rows": null,
            "right": null,
            "justify_content": null,
            "_view_module": "@jupyter-widgets/base",
            "overflow": null,
            "_model_module_version": "1.2.0",
            "_view_count": null,
            "flex_flow": null,
            "width": null,
            "min_width": null,
            "border": null,
            "align_items": null,
            "bottom": null,
            "_model_module": "@jupyter-widgets/base",
            "top": null,
            "grid_column": null,
            "overflow_y": null,
            "overflow_x": null,
            "grid_auto_flow": null,
            "grid_area": null,
            "grid_template_columns": null,
            "flex": null,
            "_model_name": "LayoutModel",
            "justify_items": null,
            "grid_row": null,
            "max_height": null,
            "align_content": null,
            "visibility": null,
            "align_self": null,
            "height": null,
            "min_height": null,
            "padding": null,
            "grid_auto_rows": null,
            "grid_gap": null,
            "max_width": null,
            "order": null,
            "_view_module_version": "1.2.0",
            "grid_template_areas": null,
            "object_position": null,
            "object_fit": null,
            "grid_auto_columns": null,
            "margin": null,
            "display": null,
            "left": null
          }
        },
        "8aaac8ce9c58432c9fdad004caa16f5a": {
          "model_module": "@jupyter-widgets/base",
          "model_name": "LayoutModel",
          "state": {
            "_view_name": "LayoutView",
            "grid_template_rows": null,
            "right": null,
            "justify_content": null,
            "_view_module": "@jupyter-widgets/base",
            "overflow": null,
            "_model_module_version": "1.2.0",
            "_view_count": null,
            "flex_flow": null,
            "width": null,
            "min_width": null,
            "border": null,
            "align_items": null,
            "bottom": null,
            "_model_module": "@jupyter-widgets/base",
            "top": null,
            "grid_column": null,
            "overflow_y": null,
            "overflow_x": null,
            "grid_auto_flow": null,
            "grid_area": null,
            "grid_template_columns": null,
            "flex": null,
            "_model_name": "LayoutModel",
            "justify_items": null,
            "grid_row": null,
            "max_height": null,
            "align_content": null,
            "visibility": null,
            "align_self": null,
            "height": null,
            "min_height": null,
            "padding": null,
            "grid_auto_rows": null,
            "grid_gap": null,
            "max_width": null,
            "order": null,
            "_view_module_version": "1.2.0",
            "grid_template_areas": null,
            "object_position": null,
            "object_fit": null,
            "grid_auto_columns": null,
            "margin": null,
            "display": null,
            "left": null
          }
        }
      }
    }
  },
  "cells": [
    {
      "cell_type": "markdown",
      "metadata": {
        "id": "view-in-github",
        "colab_type": "text"
      },
      "source": [
        "<a href=\"https://colab.research.google.com/github/MichalPitr/SimpsonsClassifierApp/blob/main/SimpsonsClassifierFastAI.ipynb\" target=\"_parent\"><img src=\"https://colab.research.google.com/assets/colab-badge.svg\" alt=\"Open In Colab\"/></a>"
      ]
    },
    {
      "cell_type": "markdown",
      "metadata": {
        "id": "dDrh6eOHR-S5"
      },
      "source": [
        "# Simpsons Classifier App\n",
        "The model was trained as a part of FastAI course. The dataset used is Alexattia's Simpsons dataset (https://www.kaggle.com/alexattia/the-simpsons-characters-dataset). The GUI is made using  ipywidgets and Voila. "
      ]
    },
    {
      "cell_type": "code",
      "metadata": {
        "id": "v-Lb1nFXQuis"
      },
      "source": [
        "#loading the model\n",
        "from fastai.vision.all import *\n",
        "from fastai.vision.widgets import *"
      ],
      "execution_count": 12,
      "outputs": []
    },
    {
      "cell_type": "code",
      "metadata": {
        "id": "3ZgJ4YaeOIDr"
      },
      "source": [
        "learn_inf = load_learner('export.pkl')"
      ],
      "execution_count": 3,
      "outputs": []
    },
    {
      "cell_type": "code",
      "metadata": {
        "id": "fMVoQw-JcX9f"
      },
      "source": [
        "btn_run = widgets.Button(\n",
        "    description='Classify',\n",
        "    button_style='danger'\n",
        ")"
      ],
      "execution_count": 4,
      "outputs": []
    },
    {
      "cell_type": "code",
      "metadata": {
        "colab": {
          "base_uri": "https://localhost:8080/",
          "height": 311,
          "referenced_widgets": [
            "d15143b755924692853c6b3aa81a252b",
            "e4010ef37f4a42f99984ad30308a44d1",
            "a71a94c82870468c83f241df682d95fb",
            "805e2120b29042049cb6b6a5b9933588",
            "a20597473a864c6b9c850d017273fb10",
            "c4ca953c95724b40a582fab8142bf7a2",
            "86310a1d7ede47eaa0899e0c53557483",
            "0956a1b355c04491a2ee6a649e5665dc",
            "0dceae47f0054f7d9c993a8e1c5f57f1",
            "7993eb14d8654b0c981def2c1d5b706d",
            "fc431eee5fbf4ac6a3a34fb9fa1d3184",
            "2d192dd0506e43c38ea15db7e80208eb",
            "8dbb9631c6534089b0dfcef62109a886",
            "9315577e32e745158e8efa17e65ab94e",
            "3a5909235b5e46998443ae921584fc35",
            "8aaac8ce9c58432c9fdad004caa16f5a"
          ]
        },
        "id": "oSgV4XneIHIu",
        "outputId": "ca1cb108-3a5d-4741-c4d6-4e1b1ece53a0"
      },
      "source": [
        "# let's unify what we've done so far into a single GUI piece called VBOX\n",
        "out_pl = widgets.Output()\n",
        "lbl_pred = widgets.Label()\n",
        "\n",
        "def on_click_classify(change):\n",
        "    img = PILImage.create(btn_upload.data[-1])\n",
        "    out_pl.clear_output()\n",
        "    with out_pl: display(img.to_thumb(256,256))\n",
        "    pred,pred_idx,probs = learn_inf.predict(img)\n",
        "\n",
        "    lbl_pred.value = f'Prediction: {pred}; Probability: {probs[pred_idx]:.04f}'\n",
        "\n",
        "btn_run.on_click(on_click_classify)\n",
        "\n",
        "btn_upload = widgets.FileUpload()\n",
        "VBox([widgets.Label('Upload your Simpson [Homer, Lisa, Bart, Moe and Ned]'), \n",
        "      btn_upload, btn_run, out_pl, lbl_pred])"
      ],
      "execution_count": 11,
      "outputs": [
        {
          "output_type": "display_data",
          "data": {
            "application/vnd.jupyter.widget-view+json": {
              "model_id": "d15143b755924692853c6b3aa81a252b",
              "version_minor": 0,
              "version_major": 2
            },
            "text/plain": [
              "VBox(children=(Label(value='Upload your Simpson [Homer, Lisa, Bart, Moe and Ned]'), FileUpload(value={}, descr…"
            ]
          },
          "metadata": {
            "tags": []
          }
        },
        {
          "output_type": "display_data",
          "data": {
            "text/html": [
              ""
            ],
            "text/plain": [
              "<IPython.core.display.HTML object>"
            ]
          },
          "metadata": {
            "tags": []
          }
        },
        {
          "output_type": "display_data",
          "data": {
            "text/html": [
              ""
            ],
            "text/plain": [
              "<IPython.core.display.HTML object>"
            ]
          },
          "metadata": {
            "tags": []
          }
        },
        {
          "output_type": "display_data",
          "data": {
            "text/html": [
              ""
            ],
            "text/plain": [
              "<IPython.core.display.HTML object>"
            ]
          },
          "metadata": {
            "tags": []
          }
        },
        {
          "output_type": "display_data",
          "data": {
            "text/html": [
              ""
            ],
            "text/plain": [
              "<IPython.core.display.HTML object>"
            ]
          },
          "metadata": {
            "tags": []
          }
        },
        {
          "output_type": "display_data",
          "data": {
            "text/html": [
              ""
            ],
            "text/plain": [
              "<IPython.core.display.HTML object>"
            ]
          },
          "metadata": {
            "tags": []
          }
        },
        {
          "output_type": "display_data",
          "data": {
            "text/html": [
              ""
            ],
            "text/plain": [
              "<IPython.core.display.HTML object>"
            ]
          },
          "metadata": {
            "tags": []
          }
        },
        {
          "output_type": "display_data",
          "data": {
            "text/html": [
              ""
            ],
            "text/plain": [
              "<IPython.core.display.HTML object>"
            ]
          },
          "metadata": {
            "tags": []
          }
        }
      ]
    },
    {
      "cell_type": "code",
      "metadata": {
        "id": "Hf0U7dMgJ-qW"
      },
      "source": [
        ""
      ],
      "execution_count": null,
      "outputs": []
    }
  ]
}